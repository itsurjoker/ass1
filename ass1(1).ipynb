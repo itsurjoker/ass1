{
 "cells": [
  {
   "cell_type": "code",
   "execution_count": 3,
   "id": "6bb54b6a-58f5-4b13-b1c8-cd6f13419b80",
   "metadata": {},
   "outputs": [],
   "source": [
    "Q1.\n",
    "#A for loop is best used when we know the number of times we want to execute a block of code.\n",
    "#It is also used when iterating over a sequence, such as a list or tuple, and when performing a repetitive action a fixed number of times."
   ]
  },
  {
   "cell_type": "code",
   "execution_count": 2,
   "id": "576fcc4e-34bb-4ed2-a604-7f02f0202850",
   "metadata": {},
   "outputs": [
    {
     "name": "stdout",
     "output_type": "stream",
     "text": [
      "aniket\n",
      "shivam\n",
      "prashant\n"
     ]
    }
   ],
   "source": [
    "#Heres an example:\n",
    "Names = [\"aniket\", \"shivam\", \"prashant\"]\n",
    "for i in Names:\n",
    "    print(i)\n"
   ]
  },
  {
   "cell_type": "code",
   "execution_count": null,
   "id": "f62a17d8-cb1b-4df3-8394-a7ccfc9aed2e",
   "metadata": {},
   "outputs": [],
   "source": [
    "#In this example, the for loop iterates over the names list and prints each item in the list.\n",
    "#Since we know the length of the list, we can use a for loop."
   ]
  },
  {
   "cell_type": "code",
   "execution_count": 4,
   "id": "ab1b8efa-b85f-416d-a6d5-235d6d77f936",
   "metadata": {},
   "outputs": [],
   "source": [
    "#A while loop, on the other hand, is best used when you don't know the exact number of times you want to execute a block of code. \n",
    "#It is also used when the condition for executing the loop is based on user input or external factors that may change."
   ]
  },
  {
   "cell_type": "code",
   "execution_count": 10,
   "id": "910501ff-bfd4-4dd3-845d-29ab775c96b9",
   "metadata": {},
   "outputs": [
    {
     "name": "stdout",
     "output_type": "stream",
     "text": [
      "Shivam\n",
      "Shivam\n",
      "Shivam\n",
      "Shivam\n",
      "Shivam\n"
     ]
    }
   ],
   "source": [
    "count = 0\n",
    "while count < 5:\n",
    "    print(\"Shivam\")\n",
    "    count += 1\n"
   ]
  },
  {
   "cell_type": "code",
   "execution_count": null,
   "id": "8847db6c-edff-474e-8e38-df73a4823c42",
   "metadata": {},
   "outputs": [],
   "source": [
    "#In this example, the while loop will continue to execute as long as the count variable is less than 5. \n",
    "#Since we don't know how many times the loop will execute, we use a while loop. In this example, the loop will execute 5 times and print \"Shivam\" each time."
   ]
  },
  {
   "cell_type": "code",
   "execution_count": null,
   "id": "236bf2ea-43c0-4885-80a9-c30ff1b5da72",
   "metadata": {},
   "outputs": [],
   "source": [
    "Q2.\n",
    "#Using loop:"
   ]
  },
  {
   "cell_type": "code",
   "execution_count": 11,
   "id": "0311ac09-1061-4877-a4ca-68d7c1af85cb",
   "metadata": {},
   "outputs": [
    {
     "name": "stdout",
     "output_type": "stream",
     "text": [
      "Sum of first 10 natural numbers is:  55\n"
     ]
    }
   ],
   "source": [
    "# Sum of first 10 natural numbers using for loop\n",
    "sum = 0\n",
    "for i in range(1, 11):\n",
    "    sum += i\n",
    "print(\"Sum of first 10 natural numbers is: \", sum)"
   ]
  },
  {
   "cell_type": "code",
   "execution_count": 12,
   "id": "da2f4224-b9e7-4b1f-aa78-286b5eee5d77",
   "metadata": {},
   "outputs": [
    {
     "name": "stdout",
     "output_type": "stream",
     "text": [
      "Product of first 10 natural numbers is:  3628800\n"
     ]
    }
   ],
   "source": [
    "# Product of first 10 natural numbers using for loop\n",
    "product = 1\n",
    "for i in range(1, 11):\n",
    "    product *= i\n",
    "print(\"Product of first 10 natural numbers is: \", product)"
   ]
  },
  {
   "cell_type": "code",
   "execution_count": null,
   "id": "2c30b57e-494d-4271-91f0-5db773728c2d",
   "metadata": {},
   "outputs": [],
   "source": [
    "#Using while:"
   ]
  },
  {
   "cell_type": "code",
   "execution_count": 13,
   "id": "4959b400-c3ce-421b-980d-f0c5d8ebb836",
   "metadata": {},
   "outputs": [
    {
     "name": "stdout",
     "output_type": "stream",
     "text": [
      "Sum of first 10 natural numbers is:  55\n"
     ]
    }
   ],
   "source": [
    "# Sum of first 10 natural numbers using while loop\n",
    "sum = 0\n",
    "i = 1\n",
    "while i <= 10:\n",
    "    sum += i\n",
    "    i += 1\n",
    "print(\"Sum of first 10 natural numbers is: \", sum)\n"
   ]
  },
  {
   "cell_type": "code",
   "execution_count": 14,
   "id": "a398560c-21e4-4efc-a2ed-b7d9da3bac9c",
   "metadata": {},
   "outputs": [
    {
     "name": "stdout",
     "output_type": "stream",
     "text": [
      "Product of first 10 natural numbers is:  3628800\n"
     ]
    }
   ],
   "source": [
    "# Product of first 10 natural numbers using while loop\n",
    "product = 1\n",
    "i = 1\n",
    "while i <= 10:\n",
    "    product *= i\n",
    "    i += 1\n",
    "print(\"Product of first 10 natural numbers is: \", product)"
   ]
  },
  {
   "cell_type": "code",
   "execution_count": 16,
   "id": "064c2015-c52c-452b-b2ff-e342056acd4b",
   "metadata": {},
   "outputs": [
    {
     "name": "stdin",
     "output_type": "stream",
     "text": [
      "Enter the units of electricity consumed:  310\n"
     ]
    },
    {
     "name": "stdout",
     "output_type": "stream",
     "text": [
      "Total electricity bill: Rs. 2250.0\n"
     ]
    }
   ],
   "source": [
    "#Q3.\n",
    "# take user input for units consumed\n",
    "units_consumed = int(input(\"Enter the units of electricity consumed: \"))\n",
    "\n",
    "# initialize variables for the total bill and the units used in each rate tier\n",
    "total_bill = 0\n",
    "units_1 = 0\n",
    "units_2 = 0\n",
    "units_3 = 0\n",
    "units_4 = 0\n",
    "\n",
    "# calculate bill for  1 (first 100 units)\n",
    "if units_consumed <= 100:\n",
    "    units_1 = units_consumed\n",
    "    total_bill += units_1 * 4.5\n",
    "else:\n",
    "    units_1 = 100\n",
    "    total_bill += units_1 * 4.5\n",
    "\n",
    "    # calculate bill for  2 (next 100 units)\n",
    "    if units_consumed <= 200:\n",
    "        units_2 = units_consumed - units_1\n",
    "        total_bill += units_2 * 6\n",
    "    else:\n",
    "        units_2 = 100\n",
    "        total_bill += units_2 * 6\n",
    "\n",
    "        # calculate bill for  3 (next 100 units)\n",
    "        if units_consumed <= 300:\n",
    "            units_3 = units_consumed - units_1 - units_2\n",
    "            total_bill += units_3 * 10\n",
    "        else:\n",
    "            units_3 = 100\n",
    "            total_bill += units_3 * 10\n",
    "\n",
    "            # calculate bill for  4 (above 300 units)\n",
    "            units_4 = units_consumed - units_1 - units_2 - units_3\n",
    "            total_bill += units_4 * 20\n",
    "\n",
    "# print the total bill\n",
    "print(\"Total electricity bill: Rs.\", total_bill)\n"
   ]
  },
  {
   "cell_type": "code",
   "execution_count": null,
   "id": "b0c9fbcb-7ec9-451e-bd4f-c6fa1956dc1c",
   "metadata": {},
   "outputs": [],
   "source": [
    "Q4.\n",
    "#Using loop:"
   ]
  },
  {
   "cell_type": "code",
   "execution_count": 17,
   "id": "539b26c7-622d-4949-ae48-d883b2fd0e4c",
   "metadata": {},
   "outputs": [
    {
     "name": "stdout",
     "output_type": "stream",
     "text": [
      "[2, 4, 5, 6, 8, 10, 12, 14, 15, 16, 18, 20, 22, 24, 25, 26, 28, 30, 32, 34, 35, 36, 38, 40, 42, 44, 45, 46, 48, 50, 52, 54, 55, 56, 58, 60, 62, 64, 65, 66, 68, 70, 72, 74, 75, 76, 78, 80, 82, 84, 85, 86, 88, 90, 92, 94, 95, 96, 98, 100]\n"
     ]
    }
   ],
   "source": [
    "cubes = []\n",
    "for num in range(1, 101):\n",
    "    cube = num ** 3\n",
    "    if cube % 4 == 0 or cube % 5 == 0:\n",
    "        cubes.append(num)\n",
    "print(cubes)\n"
   ]
  },
  {
   "cell_type": "code",
   "execution_count": null,
   "id": "b5029c2f-1ae4-42a2-b758-658646da0795",
   "metadata": {},
   "outputs": [],
   "source": [
    "#Using while"
   ]
  },
  {
   "cell_type": "code",
   "execution_count": 18,
   "id": "693d545e-7ccd-43e8-b97a-636838945afc",
   "metadata": {},
   "outputs": [
    {
     "name": "stdout",
     "output_type": "stream",
     "text": [
      "[2, 4, 5, 6, 8, 10, 12, 14, 15, 16, 18, 20, 22, 24, 25, 26, 28, 30, 32, 34, 35, 36, 38, 40, 42, 44, 45, 46, 48, 50, 52, 54, 55, 56, 58, 60, 62, 64, 65, 66, 68, 70, 72, 74, 75, 76, 78, 80, 82, 84, 85, 86, 88, 90, 92, 94, 95, 96, 98, 100]\n"
     ]
    }
   ],
   "source": [
    "cubes = []\n",
    "num = 1\n",
    "while num <= 100:\n",
    "    cube = num ** 3\n",
    "    if cube % 4 == 0 or cube % 5 == 0:\n",
    "        cubes.append(num)\n",
    "    num += 1\n",
    "print(cubes)\n"
   ]
  },
  {
   "cell_type": "code",
   "execution_count": 19,
   "id": "522674d7-50ad-46a4-92cb-355bc6a94d30",
   "metadata": {},
   "outputs": [
    {
     "name": "stdout",
     "output_type": "stream",
     "text": [
      "Vowels found: 12\n",
      "Filtered string: Iaoeoeaaaiei\n"
     ]
    }
   ],
   "source": [
    "#Q5.\n",
    "string = \"I want to become a data scientist\"\n",
    "vowels = \"aeiouAEIOU\"\n",
    "count = 0\n",
    "filtered_string = \"\"\n",
    "\n",
    "for char in string:\n",
    "    if char in vowels:\n",
    "        count += 1\n",
    "        filtered_string += char\n",
    "\n",
    "print(\"Vowels found:\", count)\n",
    "print(\"Filtered string:\", filtered_string)\n"
   ]
  },
  {
   "cell_type": "code",
   "execution_count": null,
   "id": "6728d02d-791f-40bb-817c-4f5ae8b13a92",
   "metadata": {},
   "outputs": [],
   "source": []
  }
 ],
 "metadata": {
  "kernelspec": {
   "display_name": "Python 3 (ipykernel)",
   "language": "python",
   "name": "python3"
  },
  "language_info": {
   "codemirror_mode": {
    "name": "ipython",
    "version": 3
   },
   "file_extension": ".py",
   "mimetype": "text/x-python",
   "name": "python",
   "nbconvert_exporter": "python",
   "pygments_lexer": "ipython3",
   "version": "3.10.8"
  }
 },
 "nbformat": 4,
 "nbformat_minor": 5
}
